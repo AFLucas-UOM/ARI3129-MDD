{
 "cells": [
  {
   "cell_type": "markdown",
   "metadata": {},
   "source": [
    "# Project ARI3129 - Object Detection & Localisation using Yolov8 *(Jupyter Notebook #2)*\n",
    "---\n",
    "\n",
    "**Name:** Andrea Filiberto Lucas  \n",
    "**ID No:** 0279704L\n",
    "\n",
    "---\n",
    "\n",
    "## Automated Dataset Management with Roboflow and Folder Organization\n",
    "\n",
    "This script automates the process of managing a dataset using Roboflow. It creates necessary directories, checks for installed dependencies, installs them if missing, and downloads the dataset. It also organizes the dataset into a structured folder hierarchy, ensuring everything is ready for further use."
   ]
  },
  {
   "cell_type": "code",
   "execution_count": 1,
   "metadata": {},
   "outputs": [
    {
     "name": "stdout",
     "output_type": "stream",
     "text": [
      "[\u001b[92m✔\u001b[0m] The subfolder '/Users/afl/Documents/University/Year 3/Lectures/SEM1/Advanced CV/Assignments/ARI3129-MDD/Versions/MDD-AFL-Yolov8' already exists. Skipping download!\n"
     ]
    }
   ],
   "source": [
    "import os\n",
    "import subprocess\n",
    "import shutil\n",
    "\n",
    "# Constants for colored output\n",
    "COLORS = {\n",
    "    \"green\": \"\\033[92m\",  # Green text\n",
    "    \"red\": \"\\033[91m\",    # Red text\n",
    "    \"reset\": \"\\033[0m\"    # Reset to default color\n",
    "}\n",
    "\n",
    "# Define the path to the Versions folder and the target subfolder\n",
    "versions_path = os.path.abspath(os.path.join(\"..\", \"Versions\"))\n",
    "target_subfolder = os.path.join(versions_path, \"MDD-AFL-Yolov8\")\n",
    "\n",
    "# Check if the Versions folder exists, if not, create it\n",
    "if not os.path.exists(versions_path):\n",
    "    os.makedirs(versions_path)\n",
    "    print(f\"[{COLORS['green']}✔{COLORS['reset']}] Folder created at: {versions_path}\")\n",
    "\n",
    "# Check if the MDD-AFL-Yolov8 subfolder exists\n",
    "if os.path.exists(target_subfolder):\n",
    "    print(f\"[{COLORS['green']}✔{COLORS['reset']}] The subfolder '{target_subfolder}' already exists. Skipping download!\")\n",
    "else:\n",
    "    # Check if roboflow is installed\n",
    "    if importlib.util.find_spec(\"roboflow\") is not None:                                                                                                        # type: ignore\n",
    "        print(f\"[{COLORS['green']}✔{COLORS['reset']}] Roboflow is already installed!\")\n",
    "    else:\n",
    "        # Install roboflow using pip\n",
    "        try:\n",
    "            subprocess.check_call([\"pip\", \"install\", \"roboflow\"])\n",
    "            print(f\"[{COLORS['green']}✔{COLORS['reset']}] Roboflow successfully installed!\")\n",
    "        except subprocess.CalledProcessError as e:\n",
    "            print(f\"[{COLORS['red']}✖{COLORS['reset']}]Failed to install Roboflow. Please check your setup.\")\n",
    "            raise e\n",
    "\n",
    "    # Import and use Roboflow\n",
    "    from roboflow import Roboflow                                                                                                                               # type: ignore\n",
    "\n",
    "    # Prompt the user for their API key\n",
    "    print(\"Please enter your Roboflow API key to download the dataset...\")\n",
    "    api_key = input(\"Please enter your Roboflow API key: \")\n",
    "\n",
    "    # Initialize Roboflow with the provided API key\n",
    "    rf = Roboflow(api_key=api_key)\n",
    "\n",
    "    # Retrieve project and version\n",
    "    project = rf.workspace(\"advanced-cv\").project(\"maltese-domestic-dataset\")\n",
    "    version = project.version(1)\n",
    "\n",
    "    # Download the dataset\n",
    "    dataset = version.download(\"yolov8\")\n",
    "\n",
    "    current_folder = os.getcwd()  # Get the current working directory\n",
    "    original_folder = os.path.join(current_folder, \"Maltese-Domestic-Dataset--1\")\n",
    "    renamed_folder = os.path.join(current_folder, \"MDD-AFL-Yolov8\")\n",
    "    target_folder = os.path.join(versions_path, \"MDD-AFL-Yolov8\")\n",
    "\n",
    "    # Check if the original folder exists\n",
    "    if os.path.exists(original_folder):\n",
    "        # Rename the folder\n",
    "        os.rename(original_folder, renamed_folder)\n",
    "\n",
    "        # Move the renamed folder to ../Versions/\n",
    "        shutil.move(renamed_folder, target_folder)\n",
    "        print(f\"[{COLORS['green']}✔{COLORS['reset']}] Folder downloaded to: {target_folder}\")\n",
    "    else:\n",
    "        print(f\"[{COLORS['red']}✖{COLORS['reset']}]Folder '{original_folder}' does not exist. No action taken.\")\n"
   ]
  },
  {
   "cell_type": "markdown",
   "metadata": {},
   "source": [
    "## Automated Library Installer in Python\n",
    "\n",
    "This script automates checking and installing libraries from a JSON file. It verifies installations, installs missing libraries via `pip`, and provides clear, colored output for success or errors. With built-in error handling and preloaded common libraries, it simplifies dependency management in Python projects."
   ]
  },
  {
   "cell_type": "code",
   "execution_count": null,
   "metadata": {},
   "outputs": [
    {
     "name": "stdout",
     "output_type": "stream",
     "text": [
      "[\u001b[92m✔\u001b[0m] Library 'opencv-python' is already installed.\n",
      "[\u001b[92m✔\u001b[0m] Library 'matplotlib' is already installed.\n",
      "[\u001b[92m✔\u001b[0m] Library 'tqdm' is already installed.\n",
      "[\u001b[92m✔\u001b[0m] Library 'ultralytics' is already installed.\n"
     ]
    }
   ],
   "source": [
    "import json\n",
    "import importlib.util\n",
    "\n",
    "# Path to the JSON file\n",
    "lib_file_path = os.path.join(\"..\", \"Libraries\", \"Task2_AFL_Lib.json\")\n",
    "\n",
    "# Read the libraries from the JSON file\n",
    "try:\n",
    "    with open(lib_file_path, 'r') as file:\n",
    "        libraries = json.load(file)\n",
    "except FileNotFoundError:\n",
    "    print(f\"{COLORS['red']}Error: Library file not found at {lib_file_path}{COLORS['reset']}\")\n",
    "    exit(1)\n",
    "except json.JSONDecodeError:\n",
    "    print(f\"{COLORS['red']}Error: Failed to decode JSON from the library file.{COLORS['reset']}\")\n",
    "    exit(1)\n",
    "\n",
    "# Function to check and install libraries\n",
    "def check_and_install_libraries(libraries):\n",
    "    for lib, import_name in libraries.items():\n",
    "        # Check if the library is installed by checking its module spec\n",
    "        if importlib.util.find_spec(import_name) is not None:\n",
    "            print(f\"[{COLORS['green']}✔{COLORS['reset']}] Library '{lib}' is already installed.\")\n",
    "        else:\n",
    "            # If the library is not found, try to install it\n",
    "            print(f\"[{COLORS['red']}✖{COLORS['reset']}] Library '{lib}' is not installed. Installing...\")\n",
    "            try:\n",
    "                subprocess.check_call([\"pip\", \"install\", lib])\n",
    "                print(f\"[{COLORS['green']}✔{COLORS['reset']}] Successfully installed '{lib}'.\")\n",
    "            except subprocess.CalledProcessError:\n",
    "                print(f\"[{COLORS['red']}✖{COLORS['reset']}] Failed to install '{lib}'. Please install it manually.\")\n",
    "\n",
    "\n",
    "# Execute the function to check and install libraries\n",
    "check_and_install_libraries(libraries)\n",
    "\n",
    "# Import necessary libraries \n",
    "import time\n",
    "import torch\n",
    "import matplotlib.pyplot as plt                                                                                                                                 #type: ignore\n",
    "import seaborn as sns                                                                                                                                           #type: ignore\n",
    "import numpy as np                                                                                                                                              #type: ignore\n",
    "import matplotlib.patches as patches                                                                                                                            #type: ignore\n",
    "import concurrent.futures\n",
    "from concurrent.futures import ThreadPoolExecutor, as_completed\n",
    "from tqdm import tqdm                                                                                                                                           #type: ignore\n",
    "from ultralytics import YOLO                                                                                                                                    #type: ignore"
   ]
  },
  {
   "cell_type": "code",
   "execution_count": null,
   "metadata": {},
   "outputs": [
    {
     "name": "stdout",
     "output_type": "stream",
     "text": [
      "Ultralytics 8.3.58 🚀 Python-3.11.1 torch-2.3.1 CPU (Apple M2)\n",
      "\u001b[34m\u001b[1mengine/trainer: \u001b[0mtask=detect, mode=train, model=yolov8n.yaml, data=/Users/afl/Documents/University/Year 3/Lectures/SEM1/Advanced CV/Assignments/ARI3129-MDD/Versions/MDD-AFL-Yolov8/data.yaml, epochs=50, time=None, patience=100, batch=8, imgsz=640, save=True, save_period=-1, cache=False, device=None, workers=8, project=None, name=MDD-AFL-Yolov8_v1, exist_ok=False, pretrained=False, optimizer=auto, verbose=True, seed=0, deterministic=True, single_cls=False, rect=False, cos_lr=False, close_mosaic=10, resume=False, amp=True, fraction=1.0, profile=False, freeze=None, multi_scale=False, overlap_mask=True, mask_ratio=4, dropout=0.0, val=True, split=val, save_json=False, save_hybrid=False, conf=None, iou=0.7, max_det=300, half=False, dnn=False, plots=True, source=None, vid_stride=1, stream_buffer=False, visualize=False, augment=False, agnostic_nms=False, classes=None, retina_masks=False, embed=None, show=False, save_frames=False, save_txt=False, save_conf=False, save_crop=False, show_labels=True, show_conf=True, show_boxes=True, line_width=None, format=torchscript, keras=False, optimize=False, int8=False, dynamic=False, simplify=True, opset=None, workspace=None, nms=False, lr0=0.01, lrf=0.01, momentum=0.937, weight_decay=0.0005, warmup_epochs=3.0, warmup_momentum=0.8, warmup_bias_lr=0.1, box=7.5, cls=0.5, dfl=1.5, pose=12.0, kobj=1.0, nbs=64, hsv_h=0.015, hsv_s=0.7, hsv_v=0.4, degrees=0.0, translate=0.1, scale=0.5, shear=0.0, perspective=0.0, flipud=0.0, fliplr=0.5, bgr=0.0, mosaic=1.0, mixup=0.0, copy_paste=0.0, copy_paste_mode=flip, auto_augment=randaugment, erasing=0.4, crop_fraction=1.0, cfg=None, tracker=botsort.yaml, save_dir=runs/detect/MDD-AFL-Yolov8_v1\n",
      "Overriding model.yaml nc=80 with nc=4\n",
      "\n",
      "                   from  n    params  module                                       arguments                     \n",
      "  0                  -1  1       464  ultralytics.nn.modules.conv.Conv             [3, 16, 3, 2]                 \n",
      "  1                  -1  1      4672  ultralytics.nn.modules.conv.Conv             [16, 32, 3, 2]                \n",
      "  2                  -1  1      7360  ultralytics.nn.modules.block.C2f             [32, 32, 1, True]             \n",
      "  3                  -1  1     18560  ultralytics.nn.modules.conv.Conv             [32, 64, 3, 2]                \n",
      "  4                  -1  2     49664  ultralytics.nn.modules.block.C2f             [64, 64, 2, True]             \n",
      "  5                  -1  1     73984  ultralytics.nn.modules.conv.Conv             [64, 128, 3, 2]               \n",
      "  6                  -1  2    197632  ultralytics.nn.modules.block.C2f             [128, 128, 2, True]           \n",
      "  7                  -1  1    295424  ultralytics.nn.modules.conv.Conv             [128, 256, 3, 2]              \n",
      "  8                  -1  1    460288  ultralytics.nn.modules.block.C2f             [256, 256, 1, True]           \n",
      "  9                  -1  1    164608  ultralytics.nn.modules.block.SPPF            [256, 256, 5]                 \n",
      " 10                  -1  1         0  torch.nn.modules.upsampling.Upsample         [None, 2, 'nearest']          \n",
      " 11             [-1, 6]  1         0  ultralytics.nn.modules.conv.Concat           [1]                           \n",
      " 12                  -1  1    148224  ultralytics.nn.modules.block.C2f             [384, 128, 1]                 \n",
      " 13                  -1  1         0  torch.nn.modules.upsampling.Upsample         [None, 2, 'nearest']          \n",
      " 14             [-1, 4]  1         0  ultralytics.nn.modules.conv.Concat           [1]                           \n",
      " 15                  -1  1     37248  ultralytics.nn.modules.block.C2f             [192, 64, 1]                  \n",
      " 16                  -1  1     36992  ultralytics.nn.modules.conv.Conv             [64, 64, 3, 2]                \n",
      " 17            [-1, 12]  1         0  ultralytics.nn.modules.conv.Concat           [1]                           \n",
      " 18                  -1  1    123648  ultralytics.nn.modules.block.C2f             [192, 128, 1]                 \n",
      " 19                  -1  1    147712  ultralytics.nn.modules.conv.Conv             [128, 128, 3, 2]              \n",
      " 20             [-1, 9]  1         0  ultralytics.nn.modules.conv.Concat           [1]                           \n",
      " 21                  -1  1    493056  ultralytics.nn.modules.block.C2f             [384, 256, 1]                 \n",
      " 22        [15, 18, 21]  1    752092  ultralytics.nn.modules.head.Detect           [4, [64, 128, 256]]           \n",
      "YOLOv8n summary: 225 layers, 3,011,628 parameters, 3,011,612 gradients, 8.2 GFLOPs\n",
      "\n",
      "\u001b[34m\u001b[1mTensorBoard: \u001b[0mStart with 'tensorboard --logdir runs/detect/MDD-AFL-Yolov8_v1', view at http://localhost:6006/\n",
      "Freezing layer 'model.22.dfl.conv.weight'\n"
     ]
    },
    {
     "name": "stderr",
     "output_type": "stream",
     "text": [
      "\u001b[34m\u001b[1mtrain: \u001b[0mScanning /Users/afl/Documents/University/Year 3/Lectures/SEM1/Advanced CV/Assignments/ARI3129-MDD/Versions/MDD-AFL-Yolov8/train/labels... 748 images, 0 backgrounds, 0 corrupt: 100%|██████████| 748/748 [00:21<00:00, 35.01it/s]  "
     ]
    },
    {
     "name": "stdout",
     "output_type": "stream",
     "text": [
      "\u001b[34m\u001b[1mtrain: \u001b[0mNew cache created: /Users/afl/Documents/University/Year 3/Lectures/SEM1/Advanced CV/Assignments/ARI3129-MDD/Versions/MDD-AFL-Yolov8/train/labels.cache\n"
     ]
    },
    {
     "name": "stderr",
     "output_type": "stream",
     "text": [
      "\n",
      "\u001b[34m\u001b[1mval: \u001b[0mScanning /Users/afl/Documents/University/Year 3/Lectures/SEM1/Advanced CV/Assignments/ARI3129-MDD/Versions/MDD-AFL-Yolov8/valid/labels... 70 images, 0 backgrounds, 0 corrupt: 100%|██████████| 70/70 [00:17<00:00,  3.89it/s]"
     ]
    },
    {
     "name": "stdout",
     "output_type": "stream",
     "text": [
      "\u001b[34m\u001b[1mval: \u001b[0mNew cache created: /Users/afl/Documents/University/Year 3/Lectures/SEM1/Advanced CV/Assignments/ARI3129-MDD/Versions/MDD-AFL-Yolov8/valid/labels.cache\n"
     ]
    },
    {
     "name": "stderr",
     "output_type": "stream",
     "text": [
      "\n"
     ]
    },
    {
     "name": "stdout",
     "output_type": "stream",
     "text": [
      "Plotting labels to runs/detect/MDD-AFL-Yolov8_v1/labels.jpg... \n",
      "\u001b[34m\u001b[1moptimizer:\u001b[0m 'optimizer=auto' found, ignoring 'lr0=0.01' and 'momentum=0.937' and determining best 'optimizer', 'lr0' and 'momentum' automatically... \n",
      "\u001b[34m\u001b[1moptimizer:\u001b[0m AdamW(lr=0.00125, momentum=0.9) with parameter groups 57 weight(decay=0.0), 64 weight(decay=0.0005), 63 bias(decay=0.0)\n",
      "\u001b[34m\u001b[1mTensorBoard: \u001b[0mmodel graph visualization added ✅\n",
      "Image sizes 640 train, 640 val\n",
      "Using 0 dataloader workers\n",
      "Logging results to \u001b[1mruns/detect/MDD-AFL-Yolov8_v1\u001b[0m\n",
      "Starting training for 50 epochs...\n",
      "\n",
      "      Epoch    GPU_mem   box_loss   cls_loss   dfl_loss  Instances       Size\n"
     ]
    },
    {
     "name": "stderr",
     "output_type": "stream",
     "text": [
      "       1/50         0G      3.485      4.524       4.19         29        640: 100%|██████████| 94/94 [06:41<00:00,  4.27s/it]\n",
      "                 Class     Images  Instances      Box(P          R      mAP50  mAP50-95): 100%|██████████| 5/5 [00:24<00:00,  4.90s/it]"
     ]
    },
    {
     "name": "stdout",
     "output_type": "stream",
     "text": [
      "                   all         70        228   0.000499     0.0507   0.000319   9.31e-05\n"
     ]
    },
    {
     "name": "stderr",
     "output_type": "stream",
     "text": [
      "\n"
     ]
    },
    {
     "name": "stdout",
     "output_type": "stream",
     "text": [
      "\n",
      "      Epoch    GPU_mem   box_loss   cls_loss   dfl_loss  Instances       Size\n"
     ]
    },
    {
     "name": "stderr",
     "output_type": "stream",
     "text": [
      "       2/50         0G      3.311      4.191      3.864         28        640: 100%|██████████| 94/94 [07:15<00:00,  4.63s/it]\n",
      "                 Class     Images  Instances      Box(P          R      mAP50  mAP50-95): 100%|██████████| 5/5 [00:25<00:00,  5.05s/it]"
     ]
    },
    {
     "name": "stdout",
     "output_type": "stream",
     "text": [
      "                   all         70        228      0.257     0.0915    0.00318    0.00089\n"
     ]
    },
    {
     "name": "stderr",
     "output_type": "stream",
     "text": [
      "\n"
     ]
    },
    {
     "name": "stdout",
     "output_type": "stream",
     "text": [
      "\n",
      "      Epoch    GPU_mem   box_loss   cls_loss   dfl_loss  Instances       Size\n"
     ]
    },
    {
     "name": "stderr",
     "output_type": "stream",
     "text": [
      "       3/50         0G      3.214      3.904      3.506         11        640: 100%|██████████| 94/94 [07:21<00:00,  4.70s/it]\n",
      "                 Class     Images  Instances      Box(P          R      mAP50  mAP50-95): 100%|██████████| 5/5 [00:27<00:00,  5.54s/it]"
     ]
    },
    {
     "name": "stdout",
     "output_type": "stream",
     "text": [
      "                   all         70        228     0.0165      0.177    0.00831    0.00283\n"
     ]
    },
    {
     "name": "stderr",
     "output_type": "stream",
     "text": [
      "\n"
     ]
    },
    {
     "name": "stdout",
     "output_type": "stream",
     "text": [
      "\n",
      "      Epoch    GPU_mem   box_loss   cls_loss   dfl_loss  Instances       Size\n"
     ]
    },
    {
     "name": "stderr",
     "output_type": "stream",
     "text": [
      "       4/50         0G       3.09      3.854        3.3         63        640: 100%|██████████| 94/94 [07:09<00:00,  4.57s/it]\n",
      "                 Class     Images  Instances      Box(P          R      mAP50  mAP50-95): 100%|██████████| 5/5 [00:31<00:00,  6.37s/it]"
     ]
    },
    {
     "name": "stdout",
     "output_type": "stream",
     "text": [
      "                   all         70        228     0.0177      0.098     0.0129    0.00332\n"
     ]
    },
    {
     "name": "stderr",
     "output_type": "stream",
     "text": [
      "\n"
     ]
    },
    {
     "name": "stdout",
     "output_type": "stream",
     "text": [
      "\n",
      "      Epoch    GPU_mem   box_loss   cls_loss   dfl_loss  Instances       Size\n"
     ]
    },
    {
     "name": "stderr",
     "output_type": "stream",
     "text": [
      "       5/50         0G       2.95       3.62      3.124         37        640:  67%|██████▋   | 63/94 [05:08<02:09,  4.19s/it]"
     ]
    }
   ],
   "source": [
    "# Path to data.yaml (relative to Yolov8_AFL.ipynb)\n",
    "data_yaml_path = os.path.join(os.path.abspath(os.path.join(os.getcwd(), os.pardir)), \"Versions\", \"MDD-AFL-Yolov8\", \"data.yaml\")\n",
    "#data_yaml_path = \"/Users/afl/Documents/University/Year 3/Lectures/SEM1/Advanced CV/Assignments/ARI3129-MDD/Versions/MDD-AFL-Yolov8/data.yaml\"\n",
    "\n",
    "# Create or load a YOLOv8 model (from scratch)\n",
    "model = YOLO(\"yolov8n.yaml\")  # specify your chosen architecture (e.g., yolov8n.yaml)\n",
    "\n",
    "# Train\n",
    "model.train(\n",
    "    data=data_yaml_path,\n",
    "    epochs=50,\n",
    "    imgsz=640,\n",
    "    batch=8,\n",
    "    name=\"MDD-AFL-Yolov8_v1\",\n",
    "    pretrained=False  # to train from scratch\n",
    ")\n",
    "\n",
    "# Evaluate\n",
    "metrics = model.val()\n",
    "print(\"Validation Metrics:\", metrics)"
   ]
  }
 ],
 "metadata": {
  "kernelspec": {
   "display_name": "Python 3",
   "language": "python",
   "name": "python3"
  },
  "language_info": {
   "codemirror_mode": {
    "name": "ipython",
    "version": 3
   },
   "file_extension": ".py",
   "mimetype": "text/x-python",
   "name": "python",
   "nbconvert_exporter": "python",
   "pygments_lexer": "ipython3",
   "version": "3.11.1"
  }
 },
 "nbformat": 4,
 "nbformat_minor": 2
}
