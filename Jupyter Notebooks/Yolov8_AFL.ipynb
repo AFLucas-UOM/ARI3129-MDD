{
 "cells": [
  {
   "cell_type": "markdown",
   "metadata": {},
   "source": [
    "# Project ARI3129 - Object Detection & Localisation using Yolov8 *(Jupyter Notebook #2)*\n",
    "---\n",
    "\n",
    "**Name:** Andrea Filiberto Lucas  \n",
    "**ID No:** 0279704L\n",
    "\n",
    "---\n",
    "\n",
    "## Automated Dataset Management with Roboflow and Folder Organization\n",
    "\n",
    "This script automates the process of managing a dataset using Roboflow. It creates necessary directories, checks for installed dependencies, installs them if missing, and downloads the dataset. It also organizes the dataset into a structured folder hierarchy, ensuring everything is ready for further use."
   ]
  },
  {
   "cell_type": "code",
   "execution_count": 2,
   "metadata": {},
   "outputs": [
    {
     "name": "stdout",
     "output_type": "stream",
     "text": [
      "[\u001b[92m✔\u001b[0m] The subfolder '/Users/afl/Documents/University/Year 3/Lectures/SEM1/Advanced CV/Assignments/ARI3129-MDD/Versions/MDD-AFL-Yolov8' already exists. Skipping download!\n"
     ]
    }
   ],
   "source": [
    "import os\n",
    "import subprocess\n",
    "import shutil\n",
    "\n",
    "# Constants for colored output\n",
    "COLORS = {\n",
    "    \"green\": \"\\033[92m\",  # Green text\n",
    "    \"red\": \"\\033[91m\",    # Red text\n",
    "    \"reset\": \"\\033[0m\"    # Reset to default color\n",
    "}\n",
    "\n",
    "# Define the path to the Versions folder and the target subfolder\n",
    "versions_path = os.path.abspath(os.path.join(\"..\", \"Versions\"))\n",
    "target_subfolder = os.path.join(versions_path, \"MDD-AFL-Yolov8\")\n",
    "\n",
    "# Check if the Versions folder exists, if not, create it\n",
    "if not os.path.exists(versions_path):\n",
    "    os.makedirs(versions_path)\n",
    "    print(f\"[{COLORS['green']}✔{COLORS['reset']}] Folder created at: {versions_path}\")\n",
    "\n",
    "# Check if the MDD-AFL-Yolov8 subfolder exists\n",
    "if os.path.exists(target_subfolder):\n",
    "    print(f\"[{COLORS['green']}✔{COLORS['reset']}] The subfolder '{target_subfolder}' already exists. Skipping download!\")\n",
    "else:\n",
    "    # Check if roboflow is installed\n",
    "    if importlib.util.find_spec(\"roboflow\") is not None:                                                                                                        # type: ignore\n",
    "        print(f\"[{COLORS['green']}✔{COLORS['reset']}] Roboflow is already installed!\")\n",
    "    else:\n",
    "        # Install roboflow using pip\n",
    "        try:\n",
    "            subprocess.check_call([\"pip\", \"install\", \"roboflow\"])\n",
    "            print(f\"[{COLORS['green']}✔{COLORS['reset']}] Roboflow successfully installed!\")\n",
    "        except subprocess.CalledProcessError as e:\n",
    "            print(f\"[{COLORS['red']}✖{COLORS['reset']}]Failed to install Roboflow. Please check your setup.\")\n",
    "            raise e\n",
    "\n",
    "    # Import and use Roboflow\n",
    "    from roboflow import Roboflow                                                                                                                               # type: ignore\n",
    "\n",
    "    # Prompt the user for their API key\n",
    "    print(\"Please enter your Roboflow API key to download the dataset...\")\n",
    "    api_key = input(\"Please enter your Roboflow API key: \")\n",
    "\n",
    "    # Initialize Roboflow with the provided API key\n",
    "    rf = Roboflow(api_key=api_key)\n",
    "\n",
    "    # Retrieve project and version\n",
    "    project = rf.workspace(\"advanced-cv\").project(\"maltese-domestic-dataset\")\n",
    "    version = project.version(1)\n",
    "\n",
    "    # Download the dataset\n",
    "    dataset = version.download(\"yolov8\")\n",
    "\n",
    "    current_folder = os.getcwd()  # Get the current working directory\n",
    "    original_folder = os.path.join(current_folder, \"Maltese-Domestic-Dataset--1\")\n",
    "    renamed_folder = os.path.join(current_folder, \"MDD-AFL-Yolov8\")\n",
    "    target_folder = os.path.join(versions_path, \"MDD-AFL-Yolov8\")\n",
    "\n",
    "    # Check if the original folder exists\n",
    "    if os.path.exists(original_folder):\n",
    "        # Rename the folder\n",
    "        os.rename(original_folder, renamed_folder)\n",
    "\n",
    "        # Move the renamed folder to ../Versions/\n",
    "        shutil.move(renamed_folder, target_folder)\n",
    "        print(f\"[{COLORS['green']}✔{COLORS['reset']}] Folder downloaded to: {target_folder}\")\n",
    "    else:\n",
    "        print(f\"[{COLORS['red']}✖{COLORS['reset']}]Folder '{original_folder}' does not exist. No action taken.\")\n"
   ]
  },
  {
   "cell_type": "markdown",
   "metadata": {},
   "source": [
    "## Automated Library Installer in Python\n",
    "\n",
    "This script automates checking and installing libraries from a JSON file. It verifies installations, installs missing libraries via `pip`, and provides clear, colored output for success or errors. With built-in error handling and preloaded common libraries, it simplifies dependency management in Python projects."
   ]
  },
  {
   "cell_type": "code",
   "execution_count": 4,
   "metadata": {},
   "outputs": [
    {
     "name": "stdout",
     "output_type": "stream",
     "text": [
      "[\u001b[92m✔\u001b[0m] Library 'opencv-python' is already installed.\n",
      "[\u001b[92m✔\u001b[0m] Library 'matplotlib' is already installed.\n",
      "[\u001b[92m✔\u001b[0m] Library 'tqdm' is already installed.\n"
     ]
    }
   ],
   "source": [
    "import json\n",
    "import importlib.util\n",
    "\n",
    "# Path to the JSON file\n",
    "lib_file_path = os.path.join(\"..\", \"Libraries\", \"Task2_AFL_Lib.json\")\n",
    "\n",
    "# Read the libraries from the JSON file\n",
    "try:\n",
    "    with open(lib_file_path, 'r') as file:\n",
    "        libraries = json.load(file)\n",
    "except FileNotFoundError:\n",
    "    print(f\"{COLORS['red']}Error: Library file not found at {lib_file_path}{COLORS['reset']}\")\n",
    "    exit(1)\n",
    "except json.JSONDecodeError:\n",
    "    print(f\"{COLORS['red']}Error: Failed to decode JSON from the library file.{COLORS['reset']}\")\n",
    "    exit(1)\n",
    "\n",
    "# Function to check and install libraries\n",
    "def check_and_install_libraries(libraries):\n",
    "    for lib, import_name in libraries.items():\n",
    "        # Check if the library is installed by checking its module spec\n",
    "        if importlib.util.find_spec(import_name) is not None:\n",
    "            print(f\"[{COLORS['green']}✔{COLORS['reset']}] Library '{lib}' is already installed.\")\n",
    "        else:\n",
    "            # If the library is not found, try to install it\n",
    "            print(f\"[{COLORS['red']}✖{COLORS['reset']}] Library '{lib}' is not installed. Installing...\")\n",
    "            try:\n",
    "                subprocess.check_call([\"pip\", \"install\", lib])\n",
    "                print(f\"[{COLORS['green']}✔{COLORS['reset']}] Successfully installed '{lib}'.\")\n",
    "            except subprocess.CalledProcessError:\n",
    "                print(f\"[{COLORS['red']}✖{COLORS['reset']}] Failed to install '{lib}'. Please install it manually.\")\n",
    "\n",
    "\n",
    "# Execute the function to check and install libraries\n",
    "check_and_install_libraries(libraries)\n",
    "\n",
    "# Import necessary libraries \n",
    "import cv2                                                                                                                                                      #type: ignore\n",
    "import time\n",
    "import random\n",
    "import matplotlib.pyplot as plt                                                                                                                                 #type: ignore\n",
    "import seaborn as sns                                                                                                                                           #type: ignore\n",
    "import numpy as np                                                                                                                                              #type: ignore\n",
    "import matplotlib.patches as patches                                                                                                                            #type: ignore\n",
    "import concurrent.futures\n",
    "from concurrent.futures import ThreadPoolExecutor, as_completed\n",
    "from tqdm import tqdm                                                                                                                                           #type: ignor"
   ]
  }
 ],
 "metadata": {
  "kernelspec": {
   "display_name": "Python 3",
   "language": "python",
   "name": "python3"
  },
  "language_info": {
   "codemirror_mode": {
    "name": "ipython",
    "version": 3
   },
   "file_extension": ".py",
   "mimetype": "text/x-python",
   "name": "python",
   "nbconvert_exporter": "python",
   "pygments_lexer": "ipython3",
   "version": "3.11.1"
  }
 },
 "nbformat": 4,
 "nbformat_minor": 2
}
